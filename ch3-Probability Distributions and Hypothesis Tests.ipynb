{
 "cells": [
  {
   "cell_type": "code",
   "execution_count": 11,
   "metadata": {},
   "outputs": [],
   "source": [
    "import numpy as np\n",
    "import pandas as pd\n",
    "from scipy import stats\n",
    "import matplotlib.pyplot as plt\n",
    "import seaborn as sns\n",
    "%matplotlib inline"
   ]
  },
  {
   "cell_type": "markdown",
   "metadata": {},
   "source": [
    "### Example of Binomial Distribution\n",
    "#### Fashion Trends Online (FTO) is an e-commerce company that sells women apparel. It is observed that 10% of their customers return the items purchased by them for many reasons (such as size, color, and material mismatch). On a specific day, 20 customers purchased items from FTO. \n",
    "Calculate:<br>1.   Probability that exactly 5 customers will return the items.<br>2.   Probability that a maximum of 5 customers will return the items.<br>3.   Probability that more than 5 customers will return the items purchased by them.<br>4.   Average number of customers who are likely to return the items and the variance and the standard deviation of the number of returns."
   ]
  },
  {
   "cell_type": "markdown",
   "metadata": {},
   "source": [
    "#### Probability that exactly 5 customers will return the items.\n",
    "The function stats.binom.pmf() calculates PMF for binomial distribution and takes three parameters:<br>(a)  Expected number of successful trials (5) <br>(b)  Total number of trials (20)<br>(c)  The probability of success (0.1)"
   ]
  },
  {
   "cell_type": "code",
   "execution_count": 4,
   "metadata": {},
   "outputs": [
    {
     "data": {
      "text/plain": [
       "0.03192136111995428"
      ]
     },
     "execution_count": 4,
     "metadata": {},
     "output_type": "execute_result"
    }
   ],
   "source": [
    "stats.binom.pmf(5,20,0.1)\n",
    "## stats.binom.pmf(x,n,p)"
   ]
  },
  {
   "cell_type": "markdown",
   "metadata": {},
   "source": [
    "The corresponding probability is 0.03192, that is, the probability that exactly 5 customers will return the items is approximately 3%. "
   ]
  },
  {
   "cell_type": "code",
   "execution_count": 9,
   "metadata": {},
   "outputs": [],
   "source": [
    "pmf_df = pd.DataFrame({ 'success': range(0,21),\n",
    "    'pmf' : list(stats.binom.pmf(range(0,21),20,0.1))\n",
    "})"
   ]
  },
  {
   "cell_type": "code",
   "execution_count": 16,
   "metadata": {},
   "outputs": [
    {
     "data": {
      "image/png": "[encoded data removed]",
      "text/plain": [
       "<Figure size 432x288 with 1 Axes>"
      ]
     },
     "metadata": {
      "needs_background": "light"
     },
     "output_type": "display_data"
    }
   ],
   "source": [
    "# Creating a bar plot with number of success as x and pmf as y\n",
    "sns.barplot(x= pmf_df.success, y = pmf_df.pmf)\n",
    "plt.ylabel('pmf')\n",
    "plt.xlabel(\"Number of items returned\");"
   ]
  },
  {
   "cell_type": "markdown",
   "metadata": {},
   "source": [
    "### fig: Binomial Distribution"
   ]
  },
  {
   "cell_type": "markdown",
   "metadata": {},
   "source": [
    "### 2. Probability that a maximum of 5 customers will return the items.\n",
    "The class <b>stats.binom.cdf()</b> computes the CDF for binomial distribution. In this case the cumulative dis-tribution function returns the probability that a maximum of 5 customers will return items."
   ]
  },
  {
   "cell_type": "code",
   "execution_count": 19,
   "metadata": {},
   "outputs": [
    {
     "data": {
      "text/plain": [
       "0.988746865835491"
      ]
     },
     "execution_count": 19,
     "metadata": {},
     "output_type": "execute_result"
    }
   ],
   "source": [
    "stats.binom.cdf(5,20,0.1)\n",
    "#P(x<=X)= stats.binom.cdf(x,n,p)\n",
    "#The corresponding probability value is 0.9887."
   ]
  },
  {
   "cell_type": "markdown",
   "metadata": {},
   "source": [
    "### 3. Probability that more than 5 customers will return the items purchased by them.\n",
    "Total probability of any number of customers returning items (including 0) is always equal to 1.0. So, the probability that more than 5 customers will return the items can be computed by subtracting the probability of a maximum of 5 customers will return items from 1.0. In other words, the probability that more than 5 customers will return the items can be obtained by computing CDF of 5 and then subtracting it from 1.0. "
   ]
  },
  {
   "cell_type": "code",
   "execution_count": 21,
   "metadata": {},
   "outputs": [
    {
     "data": {
      "text/plain": [
       "0.011253134164509015"
      ]
     },
     "execution_count": 21,
     "metadata": {},
     "output_type": "execute_result"
    }
   ],
   "source": [
    "1-stats.binom.cdf(5,20,0.1)"
   ]
  },
  {
   "cell_type": "markdown",
   "metadata": {},
   "source": [
    "### 4.     Average  number  of  customers  who  are  likely  to  return  the  items  and  the  variance  and  the  standard deviation of the number of returns. \n",
    "(a)  Average of a binomial distribution is given by n * p<br>(b)  Variance of the binomial distribution is given by n * p * (1 − p)"
   ]
  },
  {
   "cell_type": "code",
   "execution_count": 23,
   "metadata": {},
   "outputs": [
    {
     "name": "stdout",
     "output_type": "stream",
     "text": [
      "mean: 2.0 and variance :1.8\n"
     ]
    }
   ],
   "source": [
    "mean,var = stats.binom.stats(20,0.1)\n",
    "print(f'mean: {mean} and variance :{var}')"
   ]
  },
  {
   "cell_type": "markdown",
   "metadata": {},
   "source": [
    "## Poission Distribution"
   ]
  },
  {
   "cell_type": "markdown",
   "metadata": {},
   "source": [
    "### Example of Poisson Distribution\n",
    "The number of calls arriving at a call center follows a Poisson distribution at 10 calls per hour. <br>1.   Calculate the probability that the number of calls will be maximum 5.<br>2.   Calculate the probability that the number of calls over a 3-hour period will exceed 30."
   ]
  },
  {
   "cell_type": "markdown",
   "metadata": {},
   "source": [
    "### 1. Calculate the probability that a maximum of 5 calls will arrive at the call center.\n",
    "As the number of calls arriving at the center follows Poisson distribution, we can use stats.poisson.cdf to calculate the probability value. It takes the following two parameters:<br>(a)  First parameter: Number of events (in this case, 5 calls) for which the probability needs to be calculated.<br>(b)  Second parameter: The average numbers of events (i.e., 10 calls per hour)."
   ]
  },
  {
   "cell_type": "code",
   "execution_count": 25,
   "metadata": {},
   "outputs": [
    {
     "data": {
      "text/plain": [
       "0.06708596287903189"
      ]
     },
     "execution_count": 25,
     "metadata": {},
     "output_type": "execute_result"
    }
   ],
   "source": [
    "stats.poisson.cdf(5,10)\n",
    "#stats.poisson.pdf(x,n)\n",
    "#The corresponding probability is 0.067."
   ]
  },
  {
   "cell_type": "markdown",
   "metadata": {},
   "source": [
    "### 2. Calculate the probability that the number of calls over a 3-hour period will exceed 30.\n",
    "Since the average calls per hour is 10 (l = 10), and we are interested in finding the calls over 3 hours, the mean number of calls over 3 hours is lt = 30. Probability that the number of calls will be more than 30 is given by"
   ]
  },
  {
   "cell_type": "code",
   "execution_count": 26,
   "metadata": {},
   "outputs": [
    {
     "data": {
      "text/plain": [
       "0.45164848742208863"
      ]
     },
     "execution_count": 26,
     "metadata": {},
     "output_type": "execute_result"
    }
   ],
   "source": [
    "1-stats.poisson.cdf(30,30)"
   ]
  },
  {
   "cell_type": "code",
   "execution_count": 30,
   "metadata": {},
   "outputs": [],
   "source": [
    "pmf_df1 = pd.DataFrame({ 'success': range(0,30),\n",
    "    'pmf' : list(stats.poisson.pmf(range(0,30),10))\n",
    "})"
   ]
  },
  {
   "cell_type": "code",
   "execution_count": 31,
   "metadata": {},
   "outputs": [
    {
     "data": {
      "image/png": "[encoded data removed]",
      "text/plain": [
       "<Figure size 432x288 with 1 Axes>"
      ]
     },
     "metadata": {
      "needs_background": "light"
     },
     "output_type": "display_data"
    }
   ],
   "source": [
    "# Creating a bar plot with number of success as x and pmf as y\n",
    "sns.barplot(x= pmf_df1.success, y = pmf_df1.pmf)\n",
    "plt.ylabel('pmf')\n",
    "plt.xlabel(\"Number of call received\");"
   ]
  },
  {
   "cell_type": "markdown",
   "metadata": {},
   "source": [
    "### fig: poisson distribution"
   ]
  },
  {
   "cell_type": "markdown",
   "metadata": {},
   "source": [
    "##   EXPONENTIAL DISTRIBUTION"
   ]
  },
  {
   "cell_type": "code",
   "execution_count": null,
   "metadata": {},
   "outputs": [],
   "source": []
  }
 ],
 "metadata": {
  "kernelspec": {
   "display_name": "Python 3 (ipykernel)",
   "language": "python",
   "name": "python3"
  },
  "language_info": {
   "codemirror_mode": {
    "name": "ipython",
    "version": 3
   },
   "file_extension": ".py",
   "mimetype": "text/x-python",
   "name": "python",
   "nbconvert_exporter": "python",
   "pygments_lexer": "ipython3",
   "version": "3.8.3"
  }
 },
 "nbformat": 4,
 "nbformat_minor": 4
}
